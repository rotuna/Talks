{
 "cells": [
  {
   "cell_type": "code",
   "execution_count": 1,
   "metadata": {
    "slideshow": {
     "slide_type": "skip"
    }
   },
   "outputs": [],
   "source": [
    "import time"
   ]
  },
  {
   "cell_type": "markdown",
   "metadata": {
    "slideshow": {
     "slide_type": "slide"
    }
   },
   "source": [
    "<center>\n",
    "    \n",
    "<img src=\"image.png\" align=\"center\"/>\n",
    "\n",
    "</center>"
   ]
  },
  {
   "cell_type": "markdown",
   "metadata": {
    "slideshow": {
     "slide_type": "slide"
    }
   },
   "source": [
    "# Python is NOT easy\n",
    "\n",
    "### Sadhana Srinivasan\n",
    "### Saama Technologies\n"
   ]
  },
  {
   "cell_type": "markdown",
   "metadata": {
    "slideshow": {
     "slide_type": "subslide"
    }
   },
   "source": [
    "# What I do\n",
    "\n",
    "I work in AI (ML) Research\n",
    "\n",
    "Currently I'm trying to figure out if NNs can follow hard logic. \n",
    "\n",
    "I was working on trying to get NNs to run on Quantum Computers in an intiutive way, which is where I encontered SymPy.\n",
    "\n",
    "Contact by EMail: sadhanasrinivasan@pm.me"
   ]
  },
  {
   "cell_type": "markdown",
   "metadata": {
    "slideshow": {
     "slide_type": "slide"
    }
   },
   "source": [
    "# Why do we say Python is easy?\n",
    "\n",
    "When people who have been using python try to get into opensource, they're confronted with different features in Python that might be surprising/confusing. This is to try and help ease this process for other first time contributors based on what I faced with SymPy.\n",
    "\n",
    "This ipynb contains the examples along with some explantion about each concept."
   ]
  },
  {
   "cell_type": "markdown",
   "metadata": {
    "slideshow": {
     "slide_type": "subslide"
    }
   },
   "source": [
    "# Why is Python not easy?\n",
    "\n",
    "Behaviours that make life easy for the user actually have a lot going on behind the scenes.\n",
    "\n",
    "\n",
    "And this is what the new open source contributor has to deal with this talk is centred around talking about those concepts that usually trip people up."
   ]
  },
  {
   "cell_type": "markdown",
   "metadata": {
    "slideshow": {
     "slide_type": "subslide"
    }
   },
   "source": [
    "# What we'll cover\n",
    "\n",
    "- Inheritence in Python\n",
    "- Mixin Classes\n",
    "- Decorators\n",
    "- `__slots__`\n",
    "- Metaclasses\n",
    "- How does all this combine?"
   ]
  },
  {
   "cell_type": "markdown",
   "metadata": {
    "slideshow": {
     "slide_type": "slide"
    }
   },
   "source": [
    "# Inheritence in Python\n",
    "\n",
    "Python allows multiple inheritence. \n",
    "<center>\n",
    "    \n",
    "<img src=\"inheritence.png\" align=\"center\"/>\n",
    "\n",
    "</center>\n",
    "\n",
    "This is not allowed in most other programming languages as it is usually not clear what to do when there are collisions in the parameters"
   ]
  },
  {
   "cell_type": "code",
   "execution_count": 2,
   "metadata": {
    "slideshow": {
     "slide_type": "subslide"
    }
   },
   "outputs": [
    {
     "name": "stdout",
     "output_type": "stream",
     "text": [
      "Eve\n"
     ]
    }
   ],
   "source": [
    "class parentclass1(object):\n",
    "    parent_name = \"Eve\"\n",
    "    mother = True\n",
    "class parentclass2(object):\n",
    "    parent_name = \"Adam\"\n",
    "    father = True\n",
    "    \n",
    "# Define the child class\n",
    "class child(parentclass1, parentclass2):\n",
    "    child = \"I am a child\"\n",
    "    \n",
    "child1 = child()\n",
    "\n",
    "print(child1.parent_name)"
   ]
  },
  {
   "cell_type": "markdown",
   "metadata": {
    "slideshow": {
     "slide_type": "fragment"
    }
   },
   "source": [
    "Notice how one parent class overrides the attribute of the other class?\n",
    "\n",
    "This is due to Pythons's _Dynamic Ordering_. In most cases it's enough to know that the it's left most class's atributes that finally exist in case of clashes.\n",
    "\n"
   ]
  },
  {
   "cell_type": "markdown",
   "metadata": {
    "slideshow": {
     "slide_type": "notes"
    }
   },
   "source": [
    "Where would one use this? \n",
    "\n",
    "Everywhere! \n",
    "\n",
    "- To have mutiple classes that behave in a similar way but are slightly different\n",
    "- To abstact way repetive actions and only keep the crux of the class or function."
   ]
  },
  {
   "cell_type": "code",
   "execution_count": null,
   "metadata": {
    "slideshow": {
     "slide_type": "skip"
    }
   },
   "outputs": [],
   "source": []
  },
  {
   "cell_type": "markdown",
   "metadata": {
    "slideshow": {
     "slide_type": "slide"
    }
   },
   "source": [
    "# Mixin Classes \n",
    "\n",
    "Mixin classes are a convention. **It's NOT a feature of Python**\n",
    "\n",
    "\n",
    "It's the idea that a when there are there is a behavior that you'd want a class to have you can encaplusate it within a `Mixin` class. \n",
    "\n",
    "Whenever you define a new class, if this behavior is desiered, it can be *mixed in* with that class."
   ]
  },
  {
   "cell_type": "code",
   "execution_count": null,
   "metadata": {
    "slideshow": {
     "slide_type": "skip"
    }
   },
   "outputs": [],
   "source": []
  },
  {
   "cell_type": "markdown",
   "metadata": {
    "slideshow": {
     "slide_type": "slide"
    }
   },
   "source": [
    "# Decorators\n",
    "\n"
   ]
  },
  {
   "cell_type": "markdown",
   "metadata": {
    "slideshow": {
     "slide_type": "skip"
    }
   },
   "source": [
    "Decorators allow different functions or classes to be modified in a uniform way. \n",
    "\n",
    "Say for example you need to time multiple functions, you could rewite the steps again for each function or you could decorate these functions with a _Decorators_.\n",
    "\n",
    "An example:"
   ]
  },
  {
   "cell_type": "markdown",
   "metadata": {
    "slideshow": {
     "slide_type": "subslide"
    }
   },
   "source": [
    "## Everything in python is an object"
   ]
  },
  {
   "cell_type": "code",
   "execution_count": 3,
   "metadata": {
    "slideshow": {
     "slide_type": "fragment"
    }
   },
   "outputs": [
    {
     "name": "stdout",
     "output_type": "stream",
     "text": [
      "<class 'function'> {}\n"
     ]
    }
   ],
   "source": [
    "def func(x):\n",
    "    return x**3\n",
    "\n",
    "print(type(func), func.__dict__)"
   ]
  },
  {
   "cell_type": "markdown",
   "metadata": {
    "slideshow": {
     "slide_type": "fragment"
    }
   },
   "source": [
    "Therefore, functions can be passed to other functions as input\n",
    "\n",
    "And you could even do this"
   ]
  },
  {
   "cell_type": "code",
   "execution_count": 4,
   "metadata": {
    "slideshow": {
     "slide_type": "fragment"
    }
   },
   "outputs": [
    {
     "name": "stdout",
     "output_type": "stream",
     "text": [
      "64 True\n"
     ]
    }
   ],
   "source": [
    "func.pointless = True\n",
    "\n",
    "print(func(4), func.pointless)"
   ]
  },
  {
   "cell_type": "code",
   "execution_count": 5,
   "metadata": {
    "slideshow": {
     "slide_type": "subslide"
    }
   },
   "outputs": [
    {
     "name": "stdout",
     "output_type": "stream",
     "text": [
      "2.790292263031006\n"
     ]
    }
   ],
   "source": [
    "def decorator_function(func):\n",
    "    # Notice how it takes a functions as input?\n",
    "    # This decorator is just functions that return a modified function.\n",
    "    \n",
    "    \n",
    "    def inner_func():\n",
    "        begin = time.time()\n",
    "        func()\n",
    "        end = time.time()\n",
    "        print(end - begin)\n",
    "    \n",
    "    return inner_func\n",
    "    \n",
    "\n",
    "@decorator_function\n",
    "def long_process():\n",
    "    \n",
    "    for i in range(0, 100000000):\n",
    "        pass\n",
    "    \n",
    "    return\n",
    "# @ is just syntactic sugar, this could also be written as\n",
    "# decorator_function(long_process)()\n",
    "long_process()"
   ]
  },
  {
   "cell_type": "markdown",
   "metadata": {
    "slideshow": {
     "slide_type": "subslide"
    }
   },
   "source": [
    "### Classes as Decorators\n",
    "\n",
    "Classes use the `__call__` function.\n",
    "The following is an example where the class is used to check for errors"
   ]
  },
  {
   "cell_type": "markdown",
   "metadata": {
    "slideshow": {
     "slide_type": "skip"
    }
   },
   "source": [
    "Source: https://www.geeksforgeeks.org/class-as-decorator-in-python/"
   ]
  },
  {
   "cell_type": "code",
   "execution_count": 6,
   "metadata": {
    "slideshow": {
     "slide_type": "fragment"
    }
   },
   "outputs": [
    {
     "name": "stdout",
     "output_type": "stream",
     "text": [
      "6\n"
     ]
    },
    {
     "ename": "TypeError",
     "evalue": "parameter cannot be a string !!",
     "output_type": "error",
     "traceback": [
      "\u001b[0;31m---------------------------------------------------------------------------\u001b[0m",
      "\u001b[0;31mTypeError\u001b[0m                                 Traceback (most recent call last)",
      "\u001b[0;32m<ipython-input-6-1dcd9a8d994d>\u001b[0m in \u001b[0;36m<module>\u001b[0;34m\u001b[0m\n\u001b[1;32m     19\u001b[0m \u001b[0;34m\u001b[0m\u001b[0m\n\u001b[1;32m     20\u001b[0m \u001b[0;31m# raises Error.\u001b[0m\u001b[0;34m\u001b[0m\u001b[0;34m\u001b[0m\u001b[0m\n\u001b[0;32m---> 21\u001b[0;31m \u001b[0mprint\u001b[0m\u001b[0;34m(\u001b[0m\u001b[0madd_numbers\u001b[0m\u001b[0;34m(\u001b[0m\u001b[0;36m1\u001b[0m\u001b[0;34m,\u001b[0m \u001b[0;34m'2'\u001b[0m\u001b[0;34m,\u001b[0m \u001b[0;36m3\u001b[0m\u001b[0;34m)\u001b[0m\u001b[0;34m)\u001b[0m\u001b[0;34m\u001b[0m\u001b[0m\n\u001b[0m",
      "\u001b[0;32m<ipython-input-6-1dcd9a8d994d>\u001b[0m in \u001b[0;36m__call__\u001b[0;34m(self, *params)\u001b[0m\n\u001b[1;32m      6\u001b[0m     \u001b[0;32mdef\u001b[0m \u001b[0m__call__\u001b[0m\u001b[0;34m(\u001b[0m\u001b[0mself\u001b[0m\u001b[0;34m,\u001b[0m \u001b[0;34m*\u001b[0m\u001b[0mparams\u001b[0m\u001b[0;34m)\u001b[0m\u001b[0;34m:\u001b[0m\u001b[0;34m\u001b[0m\u001b[0m\n\u001b[1;32m      7\u001b[0m         \u001b[0;32mif\u001b[0m \u001b[0many\u001b[0m\u001b[0;34m(\u001b[0m\u001b[0;34m[\u001b[0m\u001b[0misinstance\u001b[0m\u001b[0;34m(\u001b[0m\u001b[0mi\u001b[0m\u001b[0;34m,\u001b[0m \u001b[0mstr\u001b[0m\u001b[0;34m)\u001b[0m \u001b[0;32mfor\u001b[0m \u001b[0mi\u001b[0m \u001b[0;32min\u001b[0m \u001b[0mparams\u001b[0m\u001b[0;34m]\u001b[0m\u001b[0;34m)\u001b[0m\u001b[0;34m:\u001b[0m\u001b[0;34m\u001b[0m\u001b[0m\n\u001b[0;32m----> 8\u001b[0;31m             \u001b[0;32mraise\u001b[0m \u001b[0mTypeError\u001b[0m\u001b[0;34m(\u001b[0m\u001b[0;34m\"parameter cannot be a string !!\"\u001b[0m\u001b[0;34m)\u001b[0m\u001b[0;34m\u001b[0m\u001b[0m\n\u001b[0m\u001b[1;32m      9\u001b[0m         \u001b[0;32melse\u001b[0m\u001b[0;34m:\u001b[0m\u001b[0;34m\u001b[0m\u001b[0m\n\u001b[1;32m     10\u001b[0m             \u001b[0;32mreturn\u001b[0m \u001b[0mself\u001b[0m\u001b[0;34m.\u001b[0m\u001b[0mfunction\u001b[0m\u001b[0;34m(\u001b[0m\u001b[0;34m*\u001b[0m\u001b[0mparams\u001b[0m\u001b[0;34m)\u001b[0m\u001b[0;34m\u001b[0m\u001b[0m\n",
      "\u001b[0;31mTypeError\u001b[0m: parameter cannot be a string !!"
     ]
    }
   ],
   "source": [
    "class ErrorCheck: \n",
    "  \n",
    "    def __init__(self, function): \n",
    "        self.function = function \n",
    "  \n",
    "    def __call__(self, *params): \n",
    "        if any([isinstance(i, str) for i in params]): \n",
    "            raise TypeError(\"parameter cannot be a string !!\") \n",
    "        else: \n",
    "            return self.function(*params) \n",
    "  \n",
    "  \n",
    "@ErrorCheck\n",
    "def add_numbers(*numbers): \n",
    "    return sum(numbers) \n",
    "  \n",
    "#  returns 6 \n",
    "print(add_numbers(1, 2, 3))  \n",
    "  \n",
    "# raises Error.   \n",
    "print(add_numbers(1, '2', 3))   "
   ]
  },
  {
   "cell_type": "markdown",
   "metadata": {
    "slideshow": {
     "slide_type": "subslide"
    }
   },
   "source": [
    "Classes can be decorated too \n",
    "\n",
    "- Run or time all the functions within a class\n",
    "- Check which functions of a class are used most often     "
   ]
  },
  {
   "cell_type": "code",
   "execution_count": null,
   "metadata": {
    "slideshow": {
     "slide_type": "skip"
    }
   },
   "outputs": [],
   "source": []
  },
  {
   "cell_type": "markdown",
   "metadata": {
    "slideshow": {
     "slide_type": "slide"
    }
   },
   "source": [
    "# `__slots__`\n",
    "\n",
    "_Classes are not classes anymore_! "
   ]
  },
  {
   "cell_type": "markdown",
   "metadata": {
    "slideshow": {
     "slide_type": "subslide"
    }
   },
   "source": [
    "Behaviour of a normal class"
   ]
  },
  {
   "cell_type": "code",
   "execution_count": 7,
   "metadata": {
    "slideshow": {
     "slide_type": "fragment"
    }
   },
   "outputs": [
    {
     "name": "stdout",
     "output_type": "stream",
     "text": [
      "{'name': 'Jeff Bezos', 'age': 55, 'coder': False, 'owns': 'Amazon'}\n",
      "{'__module__': '__main__', 'name': '', 'age': '', 'coder': True, '__init__': <function person.__init__ at 0x105e0e158>, '__dict__': <attribute '__dict__' of 'person' objects>, '__weakref__': <attribute '__weakref__' of 'person' objects>, '__doc__': None}\n"
     ]
    }
   ],
   "source": [
    "class person:\n",
    "    name = \"\"\n",
    "    age = \"\"\n",
    "    coder = True\n",
    "    \n",
    "    \n",
    "    def __init__(self, name, age, coder=True): \n",
    "        self.name = name\n",
    "        self.age = age\n",
    "        self.coder = coder\n",
    "\n",
    "bezos = person(\"Jeff Bezos\", 55, False)\n",
    "\n",
    "bezos.owns = \"Amazon\"\n",
    "\n",
    "\n",
    "# prints the attributes of object bezos\n",
    "print(bezos.__dict__)\n",
    "\n",
    "# Attributes of the class Person\n",
    "print(person.__dict__)"
   ]
  },
  {
   "cell_type": "markdown",
   "metadata": {
    "slideshow": {
     "slide_type": "subslide"
    }
   },
   "source": [
    "An example with `__slots__`:"
   ]
  },
  {
   "cell_type": "code",
   "execution_count": 8,
   "metadata": {
    "slideshow": {
     "slide_type": "fragment"
    }
   },
   "outputs": [
    {
     "name": "stdout",
     "output_type": "stream",
     "text": [
      "{'__module__': '__main__', '__slots__': ['name', 'age', 'coder'], '__init__': <function person.__init__ at 0x105e0e268>, 'age': <member 'age' of 'person' objects>, 'coder': <member 'coder' of 'person' objects>, 'name': <member 'name' of 'person' objects>, '__doc__': None}\n"
     ]
    },
    {
     "ename": "AttributeError",
     "evalue": "'person' object has no attribute 'owns'",
     "output_type": "error",
     "traceback": [
      "\u001b[0;31m---------------------------------------------------------------------------\u001b[0m",
      "\u001b[0;31mAttributeError\u001b[0m                            Traceback (most recent call last)",
      "\u001b[0;32m<ipython-input-8-98262b24aef9>\u001b[0m in \u001b[0;36m<module>\u001b[0;34m\u001b[0m\n\u001b[1;32m     14\u001b[0m \u001b[0;34m\u001b[0m\u001b[0m\n\u001b[1;32m     15\u001b[0m \u001b[0;31m# This will now fail\u001b[0m\u001b[0;34m\u001b[0m\u001b[0;34m\u001b[0m\u001b[0m\n\u001b[0;32m---> 16\u001b[0;31m \u001b[0mbezos\u001b[0m\u001b[0;34m.\u001b[0m\u001b[0mowns\u001b[0m \u001b[0;34m=\u001b[0m \u001b[0;34m\"Amazon\"\u001b[0m\u001b[0;34m\u001b[0m\u001b[0m\n\u001b[0m",
      "\u001b[0;31mAttributeError\u001b[0m: 'person' object has no attribute 'owns'"
     ]
    }
   ],
   "source": [
    "class person:\n",
    "    __slots__ = [\"name\", \"age\", \"coder\"]\n",
    "    \n",
    "    def __init__(self, name, age, coder=True): \n",
    "        self.name = name\n",
    "        self.age = age\n",
    "        self.coder = coder\n",
    "\n",
    "bezos = person(\"Jeff Bezos\", 55, False)\n",
    "\n",
    "\n",
    "# Attributes of the class Person\n",
    "print(person.__dict__)\n",
    "\n",
    "# This will now fail \n",
    "bezos.owns = \"Amazon\""
   ]
  },
  {
   "cell_type": "markdown",
   "metadata": {
    "slideshow": {
     "slide_type": "subslide"
    }
   },
   "source": [
    "## What's happening?\n",
    "\n",
    "- By default when a class is defined, python defines a dict. \n",
    "    - A dict allows adding attibutes at runtime. \n",
    "    - It also slows down the whole process.\n",
    "    <br/><br/>\n",
    "    <br/><br/>\n",
    "- Using `__slots__` tells python to only allocate memory for the attributes in the slots."
   ]
  },
  {
   "cell_type": "markdown",
   "metadata": {
    "slideshow": {
     "slide_type": "fragment"
    }
   },
   "source": [
    "## Why use `__slots__`?\n",
    "\n",
    "- Reduce the use of RAM for heavily used classes \n",
    "- Prevent accidental misuse of classes "
   ]
  },
  {
   "cell_type": "code",
   "execution_count": null,
   "metadata": {
    "slideshow": {
     "slide_type": "skip"
    }
   },
   "outputs": [],
   "source": []
  },
  {
   "cell_type": "markdown",
   "metadata": {
    "slideshow": {
     "slide_type": "notes"
    }
   },
   "source": [
    "### Metaclasses\n",
    "\n",
    "Metaclasses help customise the instansiation of a class.\n",
    "\n",
    "The default metaclass of every class in Python is `type`. This gives the default behaviour which we all know.\n",
    "Once a class has a different meta defined, all it's children inherit that.\n",
    "\n",
    "A new metaclasses inherts `type`. This new class will automatically be recognised as a metaclass because `type` is a metaclass.\n",
    "\n",
    "The following is a dummy example to show how to use meta classes."
   ]
  },
  {
   "cell_type": "markdown",
   "metadata": {
    "slideshow": {
     "slide_type": "slide"
    }
   },
   "source": [
    "# Metaclasses"
   ]
  },
  {
   "cell_type": "markdown",
   "metadata": {
    "slideshow": {
     "slide_type": "subslide"
    }
   },
   "source": [
    "In python, class definitions are objects of type `type`.\n",
    "\n",
    "This enables the default behaviour of all classes. \n",
    "\n",
    "Metaclasses allow the programmers to change this."
   ]
  },
  {
   "cell_type": "code",
   "execution_count": 9,
   "metadata": {
    "slideshow": {
     "slide_type": "fragment"
    }
   },
   "outputs": [
    {
     "data": {
      "text/plain": [
       "type"
      ]
     },
     "execution_count": 9,
     "metadata": {},
     "output_type": "execute_result"
    }
   ],
   "source": [
    "class anexample():\n",
    "    pass\n",
    "\n",
    "type(anexample)"
   ]
  },
  {
   "cell_type": "markdown",
   "metadata": {
    "slideshow": {
     "slide_type": "subslide"
    }
   },
   "source": [
    "## How do we define a metaclass?\n",
    "\n",
    "Any class that inherits from `type` is a metaclass.\n",
    "\n",
    "We also have to tell Python that we want to use our own metaclass instead of `type`."
   ]
  },
  {
   "cell_type": "code",
   "execution_count": 10,
   "metadata": {
    "slideshow": {
     "slide_type": "fragment"
    }
   },
   "outputs": [
    {
     "name": "stdout",
     "output_type": "stream",
     "text": [
      "True\n"
     ]
    },
    {
     "data": {
      "text/plain": [
       "__main__.Meta"
      ]
     },
     "execution_count": 10,
     "metadata": {},
     "output_type": "execute_result"
    }
   ],
   "source": [
    "class Meta(type):\n",
    "    def __init__(cls, name, base, dict):\n",
    "        cls.coder = True\n",
    "\n",
    "\n",
    "class dan(metaclass=Meta):\n",
    "    pass\n",
    "\n",
    "brown = dan()\n",
    "\n",
    "print(brown.coder)\n",
    "\n",
    "type(dan)"
   ]
  },
  {
   "cell_type": "markdown",
   "metadata": {
    "slideshow": {
     "slide_type": "notes"
    }
   },
   "source": [
    "This class can be used as the meta for multiple other classes.\n",
    "\n",
    "This was a trivial example. It's just to show how if classes are object factories, metaclasses are class factories."
   ]
  },
  {
   "cell_type": "markdown",
   "metadata": {
    "slideshow": {
     "slide_type": "skip"
    }
   },
   "source": [
    "source: https://stackoverflow.com/questions/392160/what-are-some-concrete-use-cases-for-metaclasses"
   ]
  },
  {
   "cell_type": "markdown",
   "metadata": {
    "slideshow": {
     "slide_type": "subslide"
    }
   },
   "source": [
    "Another (much better) example of how MetaClasses could be used. \n",
    "\n",
    "We could use metaclasses to keep track of objects of a certain set of classes as the get instantiated.\n",
    "\n",
    "We'd immediately know the number of eaxch type of class instantated for a process."
   ]
  },
  {
   "cell_type": "code",
   "execution_count": 11,
   "metadata": {
    "slideshow": {
     "slide_type": "fragment"
    }
   },
   "outputs": [
    {
     "name": "stdout",
     "output_type": "stream",
     "text": [
      "{'Model': <class '__main__.Model'>}\n"
     ]
    }
   ],
   "source": [
    "models = {}\n",
    "\n",
    "class ModelMetaclass(type):\n",
    "    def __new__(meta, name, bases, attrs):\n",
    "        models[name] = cls = type.__new__(meta, name, bases, attrs)\n",
    "        return cls\n",
    "\n",
    "class Model(metaclass=ModelMetaclass):\n",
    "    pass\n",
    "\n",
    "model_1 = Model()\n",
    "\n",
    "print(models)"
   ]
  },
  {
   "cell_type": "markdown",
   "metadata": {
    "slideshow": {
     "slide_type": "fragment"
    }
   },
   "source": [
    "- This could be achived by a decorator, but that's not very clean"
   ]
  },
  {
   "cell_type": "markdown",
   "metadata": {
    "slideshow": {
     "slide_type": "subslide"
    }
   },
   "source": [
    "Changing the structure of a class"
   ]
  },
  {
   "cell_type": "code",
   "execution_count": 12,
   "metadata": {},
   "outputs": [
    {
     "name": "stdout",
     "output_type": "stream",
     "text": [
      "['__module__', '__qualname__', 'x', 'y']\n"
     ]
    }
   ],
   "source": [
    "import collections\n",
    "\n",
    "class Metaclass(type):\n",
    "\n",
    "    @classmethod\n",
    "    def __prepare__(meta, name, bases, **kwds):\n",
    "        return collections.OrderedDict()\n",
    "\n",
    "    def __new__(meta, name, bases, attrs, **kwds):\n",
    "        print(list(attrs))\n",
    "        # Do more stuff...\n",
    "\n",
    "class A(metaclass=Metaclass):\n",
    "    x = 1\n",
    "    y = 2"
   ]
  },
  {
   "cell_type": "markdown",
   "metadata": {
    "slideshow": {
     "slide_type": "subslide"
    }
   },
   "source": [
    "Manipulating the base class"
   ]
  },
  {
   "cell_type": "code",
   "execution_count": 13,
   "metadata": {},
   "outputs": [
    {
     "name": "stdout",
     "output_type": "stream",
     "text": [
      "A\n",
      "B\n",
      "True\n",
      "False\n"
     ]
    }
   ],
   "source": [
    "class Metaclass(type):\n",
    "    def __new__(meta, name, bases, attrs):\n",
    "        return type.__new__(meta, 'foo', (int,), attrs)\n",
    "\n",
    "class Baseclass(object):\n",
    "    __metaclass__ = Metaclass\n",
    "\n",
    "class A(Baseclass):\n",
    "    pass\n",
    "\n",
    "class B(A):\n",
    "    pass\n",
    "\n",
    "print(A.__name__)# foo\n",
    "print( B.__name__ )# foo\n",
    "print(issubclass(B, A))  # False\n",
    "print(issubclass(B, int)) # True"
   ]
  },
  {
   "cell_type": "markdown",
   "metadata": {
    "slideshow": {
     "slide_type": "subslide"
    }
   },
   "source": [
    "MetaClasses are powerful and flixible but often that come with loss of readability."
   ]
  },
  {
   "cell_type": "code",
   "execution_count": null,
   "metadata": {
    "slideshow": {
     "slide_type": "skip"
    }
   },
   "outputs": [],
   "source": []
  },
  {
   "cell_type": "markdown",
   "metadata": {
    "slideshow": {
     "slide_type": "slide"
    }
   },
   "source": [
    "# How does it come together?"
   ]
  },
  {
   "cell_type": "markdown",
   "metadata": {},
   "source": [
    "![](sympy.jpg)"
   ]
  },
  {
   "cell_type": "markdown",
   "metadata": {
    "slideshow": {
     "slide_type": "slide"
    }
   },
   "source": [
    "# Thanks!\n",
    "\n",
    "We're open to questions now."
   ]
  },
  {
   "cell_type": "markdown",
   "metadata": {
    "slideshow": {
     "slide_type": "slide"
    }
   },
   "source": [
    "### Did you know objects can act like functions?"
   ]
  },
  {
   "cell_type": "markdown",
   "metadata": {},
   "source": [
    "Objects can be made to behave like functions by using `__call__` in their classes. Example:"
   ]
  },
  {
   "cell_type": "code",
   "execution_count": 14,
   "metadata": {},
   "outputs": [
    {
     "name": "stdout",
     "output_type": "stream",
     "text": [
      "becky is a person.\n"
     ]
    }
   ],
   "source": [
    "class monkey:\n",
    "    name = \"\"\n",
    "    age = \"\"\n",
    "    coder = True\n",
    "    \n",
    "    def __init__(self, name, age, coder=True): \n",
    "        self.name = name\n",
    "        self.age = age\n",
    "        self.coder = coder\n",
    "    \n",
    "    def __call__(self):\n",
    "        if self.coder:\n",
    "            return self.name + \" is a person.\"\n",
    "        else:\n",
    "            return self.name + \" is a monkey.\"\n",
    "        \n",
    "becky = monkey(\"becky\", 4, True)\n",
    "\n",
    "print(becky())"
   ]
  },
  {
   "cell_type": "markdown",
   "metadata": {
    "slideshow": {
     "slide_type": "skip"
    }
   },
   "source": [
    "Thanks! Hope this helps when you read through other codebases."
   ]
  },
  {
   "cell_type": "code",
   "execution_count": null,
   "metadata": {},
   "outputs": [],
   "source": []
  },
  {
   "cell_type": "code",
   "execution_count": null,
   "metadata": {},
   "outputs": [],
   "source": []
  }
 ],
 "metadata": {
  "celltoolbar": "Slideshow",
  "kernelspec": {
   "display_name": "Python 3",
   "language": "python",
   "name": "python3"
  },
  "language_info": {
   "codemirror_mode": {
    "name": "ipython",
    "version": 3
   },
   "file_extension": ".py",
   "mimetype": "text/x-python",
   "name": "python",
   "nbconvert_exporter": "python",
   "pygments_lexer": "ipython3",
   "version": "3.6.6"
  }
 },
 "nbformat": 4,
 "nbformat_minor": 4
}
