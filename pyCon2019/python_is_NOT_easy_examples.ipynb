{
 "cells": [
  {
   "cell_type": "code",
   "execution_count": 40,
   "metadata": {},
   "outputs": [],
   "source": [
    "import time"
   ]
  },
  {
   "cell_type": "markdown",
   "metadata": {},
   "source": [
    "# Python is NOT easy\n",
    "\n",
    "When people who have been using python try to get into opensource, they're confronted with different features in Python that might be surprising/confusing. This is to try and help ease this process for other first time contributors based on what I faced with SymPy.\n",
    "\n",
    "This ipynb contains the examples along with some explantion about each concept."
   ]
  },
  {
   "cell_type": "markdown",
   "metadata": {},
   "source": [
    "### TOC\n",
    "\n",
    "- Inheritence in Python\n",
    "- Metaclasses\n",
    "- Decorators\n",
    "- Mixin Classes\n",
    "- `__slots__`\n",
    "- Functions are objects and _VICE-VERSA_"
   ]
  },
  {
   "cell_type": "markdown",
   "metadata": {},
   "source": [
    "### Inheritence in Python"
   ]
  },
  {
   "cell_type": "code",
   "execution_count": 58,
   "metadata": {},
   "outputs": [
    {
     "name": "stdout",
     "output_type": "stream",
     "text": [
      "I am the mother1\n"
     ]
    }
   ],
   "source": [
    "class parentclass1(object):\n",
    "    parent = \"I am the mother1\"\n",
    "class parentclass2(object):\n",
    "    parent = \"I am the mother2\"\n",
    "\n",
    "# Define the child class\n",
    "class child(parentclass1, parentclass2):\n",
    "    child = \"I am a child\"\n",
    "    \n",
    "child1 = child()\n",
    "\n",
    "print(child1.parent)"
   ]
  },
  {
   "cell_type": "markdown",
   "metadata": {},
   "source": [
    "Notice how one parent class overrides the attribute of the other class?\n",
    "\n",
    "This is due to Pythons's _Dynamic Ordering_. In most cases it's enough to know that the it's left most class's atributes that finanlly exisit in case of clashes.\n",
    "\n",
    "Where would one use this? \n",
    "\n",
    "Everywhere! \n",
    "\n",
    "- To have mutiple classes that behave in a similar way but are slightly different\n",
    "- To abstact way repetive actions and only keep the crux of the class or function."
   ]
  },
  {
   "cell_type": "markdown",
   "metadata": {},
   "source": [
    "### Metaclasses\n",
    "\n",
    "Metaclasses help customise the instansiation of a class.\n",
    "\n",
    "The default metaclass of every class in Python is `type`. This gives the default behaviour which we all know.\n",
    "Once a class has a different meta defined, all it's children inherit that.\n",
    "\n",
    "A new metaclasses inherts `type`. This new class will automatically be recognised as a metaclass because `type` is a metaclass.\n",
    "\n",
    "The following is a dummy example to show how to use meta classes."
   ]
  },
  {
   "cell_type": "code",
   "execution_count": 54,
   "metadata": {},
   "outputs": [
    {
     "name": "stdout",
     "output_type": "stream",
     "text": [
      "True\n"
     ]
    }
   ],
   "source": [
    "class Meta(type):\n",
    "    def __init__(cls, name, base, dict):\n",
    "        cls.coder = True\n",
    "\n",
    "        \n",
    "class dan(metaclass=Meta):\n",
    "    pass\n",
    "\n",
    "brown = dan()\n",
    "\n",
    "print(brown.coder)"
   ]
  },
  {
   "cell_type": "markdown",
   "metadata": {},
   "source": [
    "This class can be used as the meta for multiple classes.\n",
    "\n",
    "This was a trivial example. It's just to show how if classes are object factories, metaclasses are class factories.\n",
    "\n",
    "Another (much better) example of how MetaClasses could be used\n",
    "\n",
    "\n",
    "source: https://stackoverflow.com/questions/392160/what-are-some-concrete-use-cases-for-metaclasses"
   ]
  },
  {
   "cell_type": "code",
   "execution_count": 56,
   "metadata": {},
   "outputs": [
    {
     "name": "stdout",
     "output_type": "stream",
     "text": [
      "{'Model': <class '__main__.Model'>}\n"
     ]
    }
   ],
   "source": [
    "models = {}\n",
    "\n",
    "class ModelMetaclass(type):\n",
    "    def __new__(meta, name, bases, attrs):\n",
    "        models[name] = cls = type.__new__(meta, name, bases, attrs)\n",
    "        return cls\n",
    "\n",
    "class Model(metaclass=ModelMetaclass):\n",
    "    pass\n",
    "\n",
    "model_1 = Model()\n",
    "\n",
    "print(models)"
   ]
  },
  {
   "cell_type": "markdown",
   "metadata": {},
   "source": [
    "The use of metaclasses are varied, Gunicorn uses it to allow custom flags defined without someone having to go through the entire source code.\n",
    "\n",
    "You could use it to keep track of things as they are defined. \n",
    "\n",
    "It can even change the properties, name and type of a class just before it gets defined. This use is probably the only on which can be performed only by metaclasses. Using metaclasses can make some codebases simpler and easier to maintain."
   ]
  },
  {
   "cell_type": "markdown",
   "metadata": {},
   "source": [
    "### Decorators\n",
    "\n",
    "Decorators allow different functions or classes to be modified in a uniform way. \n",
    "\n",
    "Say for example you need to time multiple functions, you could rewite the steps again for each function or you could decorate these functions with a _Decorators_.\n",
    "\n",
    "An example:"
   ]
  },
  {
   "cell_type": "code",
   "execution_count": 42,
   "metadata": {},
   "outputs": [
    {
     "name": "stdout",
     "output_type": "stream",
     "text": [
      "4.559730052947998\n"
     ]
    }
   ],
   "source": [
    "def decorator_function(func):\n",
    "    # Notice how it takes a functions as input?\n",
    "    # This decorator is just functions that return a modified function.\n",
    "    \n",
    "    \n",
    "    def inner_func():\n",
    "        begin = time.time()\n",
    "        func()\n",
    "        end = time.time()\n",
    "        print(end - begin)\n",
    "    \n",
    "    return inner_func\n",
    "    \n",
    "\n",
    "@decorator_function\n",
    "def long_process():\n",
    "    \n",
    "    for i in range(0, 100000000):\n",
    "        pass\n",
    "    \n",
    "    return\n",
    "# @ is just syntactic sugar, this could also be written as\n",
    "# decorator_function(long_process)()\n",
    "long_process()"
   ]
  },
  {
   "cell_type": "markdown",
   "metadata": {},
   "source": [
    "#### Classes as Decorators:\n",
    "\n",
    "Classes use the `__call__` function.\n",
    "The following is an example where the class is used to check for errors\n",
    "Source: https://www.geeksforgeeks.org/class-as-decorator-in-python/"
   ]
  },
  {
   "cell_type": "code",
   "execution_count": 43,
   "metadata": {},
   "outputs": [
    {
     "name": "stdout",
     "output_type": "stream",
     "text": [
      "6\n"
     ]
    },
    {
     "ename": "TypeError",
     "evalue": "parameter cannot be a string !!",
     "output_type": "error",
     "traceback": [
      "\u001b[0;31m---------------------------------------------------------------------------\u001b[0m",
      "\u001b[0;31mTypeError\u001b[0m                                 Traceback (most recent call last)",
      "\u001b[0;32m<ipython-input-43-1dcd9a8d994d>\u001b[0m in \u001b[0;36m<module>\u001b[0;34m\u001b[0m\n\u001b[1;32m     19\u001b[0m \u001b[0;34m\u001b[0m\u001b[0m\n\u001b[1;32m     20\u001b[0m \u001b[0;31m# raises Error.\u001b[0m\u001b[0;34m\u001b[0m\u001b[0;34m\u001b[0m\u001b[0m\n\u001b[0;32m---> 21\u001b[0;31m \u001b[0mprint\u001b[0m\u001b[0;34m(\u001b[0m\u001b[0madd_numbers\u001b[0m\u001b[0;34m(\u001b[0m\u001b[0;36m1\u001b[0m\u001b[0;34m,\u001b[0m \u001b[0;34m'2'\u001b[0m\u001b[0;34m,\u001b[0m \u001b[0;36m3\u001b[0m\u001b[0;34m)\u001b[0m\u001b[0;34m)\u001b[0m\u001b[0;34m\u001b[0m\u001b[0m\n\u001b[0m",
      "\u001b[0;32m<ipython-input-43-1dcd9a8d994d>\u001b[0m in \u001b[0;36m__call__\u001b[0;34m(self, *params)\u001b[0m\n\u001b[1;32m      6\u001b[0m     \u001b[0;32mdef\u001b[0m \u001b[0m__call__\u001b[0m\u001b[0;34m(\u001b[0m\u001b[0mself\u001b[0m\u001b[0;34m,\u001b[0m \u001b[0;34m*\u001b[0m\u001b[0mparams\u001b[0m\u001b[0;34m)\u001b[0m\u001b[0;34m:\u001b[0m\u001b[0;34m\u001b[0m\u001b[0m\n\u001b[1;32m      7\u001b[0m         \u001b[0;32mif\u001b[0m \u001b[0many\u001b[0m\u001b[0;34m(\u001b[0m\u001b[0;34m[\u001b[0m\u001b[0misinstance\u001b[0m\u001b[0;34m(\u001b[0m\u001b[0mi\u001b[0m\u001b[0;34m,\u001b[0m \u001b[0mstr\u001b[0m\u001b[0;34m)\u001b[0m \u001b[0;32mfor\u001b[0m \u001b[0mi\u001b[0m \u001b[0;32min\u001b[0m \u001b[0mparams\u001b[0m\u001b[0;34m]\u001b[0m\u001b[0;34m)\u001b[0m\u001b[0;34m:\u001b[0m\u001b[0;34m\u001b[0m\u001b[0m\n\u001b[0;32m----> 8\u001b[0;31m             \u001b[0;32mraise\u001b[0m \u001b[0mTypeError\u001b[0m\u001b[0;34m(\u001b[0m\u001b[0;34m\"parameter cannot be a string !!\"\u001b[0m\u001b[0;34m)\u001b[0m\u001b[0;34m\u001b[0m\u001b[0m\n\u001b[0m\u001b[1;32m      9\u001b[0m         \u001b[0;32melse\u001b[0m\u001b[0;34m:\u001b[0m\u001b[0;34m\u001b[0m\u001b[0m\n\u001b[1;32m     10\u001b[0m             \u001b[0;32mreturn\u001b[0m \u001b[0mself\u001b[0m\u001b[0;34m.\u001b[0m\u001b[0mfunction\u001b[0m\u001b[0;34m(\u001b[0m\u001b[0;34m*\u001b[0m\u001b[0mparams\u001b[0m\u001b[0;34m)\u001b[0m\u001b[0;34m\u001b[0m\u001b[0m\n",
      "\u001b[0;31mTypeError\u001b[0m: parameter cannot be a string !!"
     ]
    }
   ],
   "source": [
    "class ErrorCheck: \n",
    "  \n",
    "    def __init__(self, function): \n",
    "        self.function = function \n",
    "  \n",
    "    def __call__(self, *params): \n",
    "        if any([isinstance(i, str) for i in params]): \n",
    "            raise TypeError(\"parameter cannot be a string !!\") \n",
    "        else: \n",
    "            return self.function(*params) \n",
    "  \n",
    "  \n",
    "@ErrorCheck\n",
    "def add_numbers(*numbers): \n",
    "    return sum(numbers) \n",
    "  \n",
    "#  returns 6 \n",
    "print(add_numbers(1, 2, 3))  \n",
    "  \n",
    "# raises Error.   \n",
    "print(add_numbers(1, '2', 3))   "
   ]
  },
  {
   "cell_type": "markdown",
   "metadata": {},
   "source": [
    "### Mixin Classes \n",
    "\n",
    "This is a convention. It's NOT a festure of Python\n",
    "It just helps to immediately understand how the class would be used. \n",
    "And also makes a class's function apparent when it inherits a Mixin class"
   ]
  },
  {
   "cell_type": "markdown",
   "metadata": {},
   "source": [
    "### `__slots__`\n",
    "\n",
    "_Classes are not classes anymore_! \n",
    "\n",
    "\n",
    "Example of classes without slots:"
   ]
  },
  {
   "cell_type": "code",
   "execution_count": 44,
   "metadata": {},
   "outputs": [
    {
     "name": "stdout",
     "output_type": "stream",
     "text": [
      "{'name': 'Jeff Bezos', 'age': 55, 'coder': False, 'owns': 'Amazon'}\n"
     ]
    }
   ],
   "source": [
    "class person:\n",
    "    name = \"\"\n",
    "    age = \"\"\n",
    "    coder = True\n",
    "    \n",
    "    \n",
    "    def __init__(self, name, age, coder=True): \n",
    "        self.name = name\n",
    "        self.age = age\n",
    "        self.coder = coder\n",
    "\n",
    "bezos = person(\"Jeff Bezos\", 55, False)\n",
    "\n",
    "bezos.owns = \"Amazon\"\n",
    "\n",
    "\n",
    "# prints the attributes of object bezos\n",
    "print(bezos.__dict__)"
   ]
  },
  {
   "cell_type": "markdown",
   "metadata": {},
   "source": [
    "An example with `__slots__`:"
   ]
  },
  {
   "cell_type": "code",
   "execution_count": 45,
   "metadata": {},
   "outputs": [
    {
     "ename": "AttributeError",
     "evalue": "'person' object has no attribute 'owns'",
     "output_type": "error",
     "traceback": [
      "\u001b[0;31m---------------------------------------------------------------------------\u001b[0m",
      "\u001b[0;31mAttributeError\u001b[0m                            Traceback (most recent call last)",
      "\u001b[0;32m<ipython-input-45-17a5f7757d15>\u001b[0m in \u001b[0;36m<module>\u001b[0;34m\u001b[0m\n\u001b[1;32m     11\u001b[0m \u001b[0;34m\u001b[0m\u001b[0m\n\u001b[1;32m     12\u001b[0m \u001b[0;31m# This will now fail\u001b[0m\u001b[0;34m\u001b[0m\u001b[0;34m\u001b[0m\u001b[0m\n\u001b[0;32m---> 13\u001b[0;31m \u001b[0mbezos\u001b[0m\u001b[0;34m.\u001b[0m\u001b[0mowns\u001b[0m \u001b[0;34m=\u001b[0m \u001b[0;34m\"Amazon\"\u001b[0m\u001b[0;34m\u001b[0m\u001b[0m\n\u001b[0m",
      "\u001b[0;31mAttributeError\u001b[0m: 'person' object has no attribute 'owns'"
     ]
    }
   ],
   "source": [
    "class person:\n",
    "    __slots__ = [\"name\", \"age\", \"coder\"]\n",
    "    \n",
    "    def __init__(self, name, age, coder=True): \n",
    "        self.name = name\n",
    "        self.age = age\n",
    "        self.coder = coder\n",
    "\n",
    "bezos = person(\"Jeff Bezos\", 55, False)\n",
    "\n",
    "\n",
    "# This will now fail\n",
    "bezos.owns = \"Amazon\""
   ]
  },
  {
   "cell_type": "markdown",
   "metadata": {},
   "source": [
    "Why are `__slots__` useful?"
   ]
  },
  {
   "cell_type": "markdown",
   "metadata": {},
   "source": [
    "### Functions are objects and _VICE-VERSA_"
   ]
  },
  {
   "cell_type": "markdown",
   "metadata": {},
   "source": [
    "We've already seen this in the decorators example. Functions are objects. They can be passed around like objects. Everything is an object in Python. But the vice-versa is also \"_true_\".\n",
    "\n",
    "Objects can be made to behave like functions by using `__call__` in their classes. Example:"
   ]
  },
  {
   "cell_type": "code",
   "execution_count": 61,
   "metadata": {},
   "outputs": [
    {
     "name": "stdout",
     "output_type": "stream",
     "text": [
      "becky is a person.\n",
      "Objects of class Monkey are callable\n"
     ]
    },
    {
     "ename": "TypeError",
     "evalue": "'person' object is not callable",
     "output_type": "error",
     "traceback": [
      "\u001b[0;31m---------------------------------------------------------------------------\u001b[0m",
      "\u001b[0;31mTypeError\u001b[0m                                 Traceback (most recent call last)",
      "\u001b[0;32m<ipython-input-61-a59922d3a1ac>\u001b[0m in \u001b[0;36m<module>\u001b[0;34m\u001b[0m\n\u001b[1;32m     38\u001b[0m \u001b[0;34m\u001b[0m\u001b[0m\n\u001b[1;32m     39\u001b[0m \u001b[0;31m# This will fail\u001b[0m\u001b[0;34m\u001b[0m\u001b[0;34m\u001b[0m\u001b[0m\n\u001b[0;32m---> 40\u001b[0;31m \u001b[0msandy\u001b[0m\u001b[0;34m(\u001b[0m\u001b[0;34m)\u001b[0m\u001b[0;34m\u001b[0m\u001b[0m\n\u001b[0m",
      "\u001b[0;31mTypeError\u001b[0m: 'person' object is not callable"
     ]
    }
   ],
   "source": [
    "# Normal class\n",
    "\n",
    "class person:\n",
    "    name = \"\"\n",
    "    age = \"\"\n",
    "    coder = True\n",
    "    \n",
    "    \n",
    "    def __init__(self, name, age, coder=True): \n",
    "        self.name = name\n",
    "        self.age = age\n",
    "        if not coder:\n",
    "            self.coder = coder\n",
    "\n",
    "# Class with __call__\n",
    "class monkey:\n",
    "    name = \"\"\n",
    "    age = \"\"\n",
    "    coder = True\n",
    "    \n",
    "    \n",
    "    def __init__(self, name, age, coder=True): \n",
    "        self.name = name\n",
    "        self.age = age\n",
    "        self.coder = coder\n",
    "    \n",
    "    def __call__(self):\n",
    "        if self.coder:\n",
    "            return self.name + \" is a person.\"\n",
    "        else:\n",
    "            return self.name + \" is a monkey.\"\n",
    "        \n",
    "becky = monkey(\"becky\", 4, True)\n",
    "sandy = person(\"sandy\", 24)\n",
    "\n",
    "print(becky())\n",
    "print(\"Objects of class Monkey are callable\")\n",
    "\n",
    "# This will fail\n",
    "sandy()"
   ]
  },
  {
   "cell_type": "markdown",
   "metadata": {},
   "source": [
    "Thanks! Hope this helps when you read through other codebases."
   ]
  }
 ],
 "metadata": {
  "kernelspec": {
   "display_name": "Python 3",
   "language": "python",
   "name": "python3"
  },
  "language_info": {
   "codemirror_mode": {
    "name": "ipython",
    "version": 3
   },
   "file_extension": ".py",
   "mimetype": "text/x-python",
   "name": "python",
   "nbconvert_exporter": "python",
   "pygments_lexer": "ipython3",
   "version": "3.6.6"
  }
 },
 "nbformat": 4,
 "nbformat_minor": 4
}
